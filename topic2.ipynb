{
 "cells": [
  {
   "cell_type": "code",
   "execution_count": 48,
   "metadata": {},
   "outputs": [],
   "source": [
    "import pandas as pd\n",
    "df=pd.read_csv('test.csv')"
   ]
  },
  {
   "cell_type": "code",
   "execution_count": 49,
   "metadata": {},
   "outputs": [],
   "source": [
    "max = 0\n",
    "for i in range(len(df)):\n",
    "  if len(df.ABSTRACT[i])>max:\n",
    "    max = (len(df.ABSTRACT[i]))\n",
    "    # name = df.name[i]\n",
    "    index = i"
   ]
  },
  {
   "cell_type": "code",
   "execution_count": 50,
   "metadata": {},
   "outputs": [],
   "source": [
    "import re\n",
    "\n",
    "df['ABSTRACT'] = df['ABSTRACT'].apply(lambda x: re.sub(r'[^\\w\\s]','', str(x)))\n",
    "df['ABSTRACT'] = df['ABSTRACT'].apply(lambda x: re.sub(r'[0-9]','', str(x)))\n",
    "df['ABSTRACT'] = df['ABSTRACT'].apply(lambda x: re.sub('\\n','', str(x)))\n",
    "df['ABSTRACT'] = df['ABSTRACT'].apply(lambda x: re.sub('\\t','', str(x)))\n",
    "df['ABSTRACT'] = df['ABSTRACT'].str.lower()\n",
    "    "
   ]
  },
  {
   "cell_type": "code",
   "execution_count": 51,
   "metadata": {},
   "outputs": [],
   "source": [
    "abstract=df['ABSTRACT']"
   ]
  },
  {
   "cell_type": "code",
   "execution_count": 52,
   "metadata": {},
   "outputs": [],
   "source": [
    "text = df.ABSTRACT.loc[index]"
   ]
  },
  {
   "cell_type": "code",
   "execution_count": 53,
   "metadata": {},
   "outputs": [
    {
     "data": {
      "text/plain": [
       "'  two unavoidable processes punctuate our century the unprecedentedurbanisation of our planet united nations  and the spread of ubiquitouscomputing weiser  and urban data streams this process of urbanisationcorresponds with the process of digitalisation of urban life whileurbanisation acts on a physical infrastructural level the digital develops asa kind of metastructure above the infrastructure this metastructural leveloffers a flexible framework through which information is continuously andoperatively being symbolized today information technology and theavailability of abundant urban data streams could be considered as forerunnersof our time having unprecedented impacts comparable to the ones brought by thesteam engine at the dawn of industrialisation and the electrification ofcities it is therefore no longer conceivable to think of the physicalstructure of the city without including its digital counterpart against thisbackground we will explore the role of computational power and informationtechnologies as dominant factors in the formation of computational urban modelsand normative city theories we will show how these models and theoriesemerging mainly during the th and th centuries present leapingcorrespondences with more ancient conceptions of the city when observed from ametalevel or episteme foucault  approach first and for the sake ofclarity we will deal with some methodological elucidations around the conceptsof theory model and episteme and how we will refer conceptually to theseterms throughout this paper secondly we will review these evolvingtechnological and computational levels of abstraction and their influence onthe different conceptions of the city thirdly we will develop the hypothesisof a conceptual gap between our current technological capacity  grounded onthe abundance and availability of urban data streams  and the state of theart in urban modelling and city theory lastly building upon foucaultsconcept of episteme foucault  and genealogy foucault b we willexplore this gap by speculating around the possibility of an inversion incomputational urban modelling and city theory and above all we will questionthe terms in which we can think of the city in an age where the world can bevirtually conceived as fully urban and the continuity and abundance of urbandata streams giving account of it can be taken for granted how are wearticulating the phenomena we call city on top of this generic common ground'"
      ]
     },
     "execution_count": 53,
     "metadata": {},
     "output_type": "execute_result"
    }
   ],
   "source": [
    "text"
   ]
  },
  {
   "cell_type": "code",
   "execution_count": 54,
   "metadata": {},
   "outputs": [
    {
     "data": {
      "text/plain": [
       "0         we present novel understandings of the gamma...\n",
       "1         meteorites contain minerals from solar syste...\n",
       "2         frame aggregation is a mechanism by which mu...\n",
       "3         milky way open clusters are very diverse in ...\n",
       "4         proving that a cryptographic protocol is cor...\n",
       "                              ...                        \n",
       "8984      we approach the problem of implementing mixe...\n",
       "8985      in the theory of markov decision processes m...\n",
       "8986      genevis is a webbased tool to visualize comp...\n",
       "8987      this paper quantifies the effect of speed ca...\n",
       "8988      we show that the vertices and edges of a ddi...\n",
       "Name: ABSTRACT, Length: 8989, dtype: object"
      ]
     },
     "execution_count": 54,
     "metadata": {},
     "output_type": "execute_result"
    }
   ],
   "source": [
    "abstract"
   ]
  },
  {
   "cell_type": "code",
   "execution_count": 55,
   "metadata": {},
   "outputs": [
    {
     "name": "stderr",
     "output_type": "stream",
     "text": [
      "[nltk_data] Downloading package stopwords to\n",
      "[nltk_data]     C:\\Users\\asus\\AppData\\Roaming\\nltk_data...\n",
      "[nltk_data]   Package stopwords is already up-to-date!\n"
     ]
    }
   ],
   "source": [
    "import nltk\n",
    "nltk.download('stopwords')\n",
    "from nltk.corpus import stopwords\n",
    "stop_words = stopwords.words('english')"
   ]
  },
  {
   "cell_type": "code",
   "execution_count": 56,
   "metadata": {},
   "outputs": [],
   "source": [
    "from collections import defaultdict\n",
    "def markov_chain(text):\n",
    "    '''The input is a string of text and the output will be a dictionary with each word as\n",
    "       a key and each value as the list of words that come after the key in the text.'''\n",
    "    \n",
    "    # Tokenize the text by word, though including punctuation\n",
    "    words = text.split(' ')\n",
    "    \n",
    "    # Initialize a default dictionary to hold all of the words and next words\n",
    "    m_dict = defaultdict(list)\n",
    "    \n",
    "    # Create a zipped list of all of the word pairs and put them in word: list of next words format\n",
    "    for current_word, next_word in zip(words[0:-1], words[1:]):\n",
    "        m_dict[current_word].append(next_word)\n",
    "\n",
    "    # Convert the default dict back into a dictionary\n",
    "    m_dict = dict(m_dict)\n",
    "    return m_dict"
   ]
  },
  {
   "cell_type": "code",
   "execution_count": 57,
   "metadata": {},
   "outputs": [
    {
     "data": {
      "text/plain": [
       "{'': ['', 'two', 'and', 'and', 'approach', 'grounded', 'and', 'and'],\n",
       " 'two': ['unavoidable'],\n",
       " 'unavoidable': ['processes'],\n",
       " 'processes': ['punctuate'],\n",
       " 'punctuate': ['our'],\n",
       " 'our': ['century', 'planet', 'time', 'current'],\n",
       " 'century': ['the'],\n",
       " 'the': ['unprecedentedurbanisation',\n",
       "  'spread',\n",
       "  'process',\n",
       "  'digital',\n",
       "  'infrastructure',\n",
       "  'ones',\n",
       "  'dawn',\n",
       "  'electrification',\n",
       "  'physicalstructure',\n",
       "  'city',\n",
       "  'role',\n",
       "  'formation',\n",
       "  'th',\n",
       "  'city',\n",
       "  'sake',\n",
       "  'conceptsof',\n",
       "  'city',\n",
       "  'hypothesisof',\n",
       "  'state',\n",
       "  'possibility',\n",
       "  'city',\n",
       "  'world',\n",
       "  'continuity',\n",
       "  'phenomena'],\n",
       " 'unprecedentedurbanisation': ['of'],\n",
       " 'of': ['our',\n",
       "  'ubiquitouscomputing',\n",
       "  'urbanisationcorresponds',\n",
       "  'digitalisation',\n",
       "  'urban',\n",
       "  'metastructure',\n",
       "  'abundant',\n",
       "  'industrialisation',\n",
       "  'the',\n",
       "  'the',\n",
       "  'computational',\n",
       "  'computational',\n",
       "  'the',\n",
       "  'abstraction',\n",
       "  'the',\n",
       "  'urban',\n",
       "  'theart',\n",
       "  'episteme',\n",
       "  'an',\n",
       "  'the',\n",
       "  'urbandata',\n",
       "  'it',\n",
       "  'this'],\n",
       " 'planet': ['united'],\n",
       " 'united': ['nations'],\n",
       " 'nations': [''],\n",
       " 'and': ['the',\n",
       "  'urban',\n",
       "  'theavailability',\n",
       "  'the',\n",
       "  'informationtechnologies',\n",
       "  'theoriesemerging',\n",
       "  'th',\n",
       "  'for',\n",
       "  'episteme',\n",
       "  'how',\n",
       "  'computational',\n",
       "  'their',\n",
       "  'availability',\n",
       "  'the',\n",
       "  'city',\n",
       "  'genealogy',\n",
       "  'city',\n",
       "  'above',\n",
       "  'the',\n",
       "  'abundance'],\n",
       " 'spread': ['of'],\n",
       " 'ubiquitouscomputing': ['weiser'],\n",
       " 'weiser': [''],\n",
       " 'urban': ['data',\n",
       "  'life',\n",
       "  'data',\n",
       "  'modelsand',\n",
       "  'data',\n",
       "  'modelling',\n",
       "  'modelling',\n",
       "  'and'],\n",
       " 'data': ['streams', 'streams', 'streams'],\n",
       " 'streams': ['this', 'could', '', 'giving'],\n",
       " 'this': ['process', 'metastructural', 'paper', 'gap', 'generic'],\n",
       " 'process': ['of', 'of'],\n",
       " 'urbanisationcorresponds': ['with'],\n",
       " 'with': ['the', 'more', 'some'],\n",
       " 'digitalisation': ['of'],\n",
       " 'life': ['whileurbanisation'],\n",
       " 'whileurbanisation': ['acts'],\n",
       " 'acts': ['on'],\n",
       " 'on': ['a', 'top'],\n",
       " 'a': ['physical', 'flexible', 'conceptual'],\n",
       " 'physical': ['infrastructural'],\n",
       " 'infrastructural': ['level'],\n",
       " 'level': ['the'],\n",
       " 'digital': ['develops', 'counterpart'],\n",
       " 'develops': ['asa'],\n",
       " 'asa': ['kind'],\n",
       " 'kind': ['of'],\n",
       " 'metastructure': ['above'],\n",
       " 'above': ['the', 'all'],\n",
       " 'infrastructure': ['this'],\n",
       " 'metastructural': ['leveloffers'],\n",
       " 'leveloffers': ['a'],\n",
       " 'flexible': ['framework'],\n",
       " 'framework': ['through'],\n",
       " 'through': ['which'],\n",
       " 'which': ['information', 'we'],\n",
       " 'information': ['is', 'technology'],\n",
       " 'is': ['continuously', 'therefore'],\n",
       " 'continuously': ['andoperatively'],\n",
       " 'andoperatively': ['being'],\n",
       " 'being': ['symbolized'],\n",
       " 'symbolized': ['today'],\n",
       " 'today': ['information'],\n",
       " 'technology': ['and'],\n",
       " 'theavailability': ['of'],\n",
       " 'abundant': ['urban'],\n",
       " 'could': ['be'],\n",
       " 'be': ['considered', 'taken'],\n",
       " 'considered': ['as'],\n",
       " 'as': ['forerunnersof', 'dominant', 'fully'],\n",
       " 'forerunnersof': ['our'],\n",
       " 'time': ['having'],\n",
       " 'having': ['unprecedented'],\n",
       " 'unprecedented': ['impacts'],\n",
       " 'impacts': ['comparable'],\n",
       " 'comparable': ['to'],\n",
       " 'to': ['the', 'think', 'theseterms'],\n",
       " 'ones': ['brought'],\n",
       " 'brought': ['by'],\n",
       " 'by': ['thesteam', 'speculating'],\n",
       " 'thesteam': ['engine'],\n",
       " 'engine': ['at'],\n",
       " 'at': ['the'],\n",
       " 'dawn': ['of'],\n",
       " 'industrialisation': ['and'],\n",
       " 'electrification': ['ofcities'],\n",
       " 'ofcities': ['it'],\n",
       " 'it': ['is', 'can'],\n",
       " 'therefore': ['no'],\n",
       " 'no': ['longer'],\n",
       " 'longer': ['conceivable'],\n",
       " 'conceivable': ['to'],\n",
       " 'think': ['of', 'of'],\n",
       " 'physicalstructure': ['of'],\n",
       " 'city': ['without',\n",
       "  'theories',\n",
       "  'when',\n",
       "  'thirdly',\n",
       "  'theory',\n",
       "  'theory',\n",
       "  'in',\n",
       "  'on'],\n",
       " 'without': ['including'],\n",
       " 'including': ['its'],\n",
       " 'its': ['digital'],\n",
       " 'counterpart': ['against'],\n",
       " 'against': ['thisbackground'],\n",
       " 'thisbackground': ['we'],\n",
       " 'we': ['will',\n",
       "  'will',\n",
       "  'will',\n",
       "  'will',\n",
       "  'will',\n",
       "  'will',\n",
       "  'willexplore',\n",
       "  'will',\n",
       "  'can',\n",
       "  'call'],\n",
       " 'will': ['explore',\n",
       "  'show',\n",
       "  'deal',\n",
       "  'refer',\n",
       "  'review',\n",
       "  'develop',\n",
       "  'questionthe'],\n",
       " 'explore': ['the'],\n",
       " 'role': ['of'],\n",
       " 'computational': ['power', 'urban', 'levels'],\n",
       " 'power': ['and'],\n",
       " 'informationtechnologies': ['as'],\n",
       " 'dominant': ['factors'],\n",
       " 'factors': ['in'],\n",
       " 'in': ['the', 'urban', 'which', 'an'],\n",
       " 'formation': ['of'],\n",
       " 'modelsand': ['normative'],\n",
       " 'normative': ['city'],\n",
       " 'theories': ['we'],\n",
       " 'show': ['how'],\n",
       " 'how': ['these', 'we', 'are'],\n",
       " 'these': ['models', 'evolvingtechnological'],\n",
       " 'models': ['and'],\n",
       " 'theoriesemerging': ['mainly'],\n",
       " 'mainly': ['during'],\n",
       " 'during': ['the'],\n",
       " 'th': ['and', 'centuries'],\n",
       " 'centuries': ['present'],\n",
       " 'present': ['leapingcorrespondences'],\n",
       " 'leapingcorrespondences': ['with'],\n",
       " 'more': ['ancient'],\n",
       " 'ancient': ['conceptions'],\n",
       " 'conceptions': ['of', 'of'],\n",
       " 'when': ['observed'],\n",
       " 'observed': ['from'],\n",
       " 'from': ['ametalevel'],\n",
       " 'ametalevel': ['or'],\n",
       " 'or': ['episteme'],\n",
       " 'episteme': ['foucault', 'and', 'foucault'],\n",
       " 'foucault': ['', '', 'b'],\n",
       " 'approach': ['first'],\n",
       " 'first': ['and'],\n",
       " 'for': ['the', 'granted'],\n",
       " 'sake': ['ofclarity'],\n",
       " 'ofclarity': ['we'],\n",
       " 'deal': ['with'],\n",
       " 'some': ['methodological'],\n",
       " 'methodological': ['elucidations'],\n",
       " 'elucidations': ['around'],\n",
       " 'around': ['the', 'the'],\n",
       " 'conceptsof': ['theory'],\n",
       " 'theory': ['model', 'lastly', 'and'],\n",
       " 'model': ['and'],\n",
       " 'refer': ['conceptually'],\n",
       " 'conceptually': ['to'],\n",
       " 'theseterms': ['throughout'],\n",
       " 'throughout': ['this'],\n",
       " 'paper': ['secondly'],\n",
       " 'secondly': ['we'],\n",
       " 'review': ['these'],\n",
       " 'evolvingtechnological': ['and'],\n",
       " 'levels': ['of'],\n",
       " 'abstraction': ['and'],\n",
       " 'their': ['influence'],\n",
       " 'influence': ['onthe'],\n",
       " 'onthe': ['different', 'abundance'],\n",
       " 'different': ['conceptions'],\n",
       " 'thirdly': ['we'],\n",
       " 'develop': ['the'],\n",
       " 'hypothesisof': ['a'],\n",
       " 'conceptual': ['gap'],\n",
       " 'gap': ['between', 'by'],\n",
       " 'between': ['our'],\n",
       " 'current': ['technological'],\n",
       " 'technological': ['capacity'],\n",
       " 'capacity': [''],\n",
       " 'grounded': ['onthe'],\n",
       " 'abundance': ['and', 'of'],\n",
       " 'availability': ['of'],\n",
       " 'state': ['of'],\n",
       " 'theart': ['in'],\n",
       " 'modelling': ['and', 'and'],\n",
       " 'lastly': ['building'],\n",
       " 'building': ['upon'],\n",
       " 'upon': ['foucaultsconcept'],\n",
       " 'foucaultsconcept': ['of'],\n",
       " 'genealogy': ['foucault'],\n",
       " 'b': ['we'],\n",
       " 'willexplore': ['this'],\n",
       " 'speculating': ['around'],\n",
       " 'possibility': ['of'],\n",
       " 'an': ['inversion', 'age'],\n",
       " 'inversion': ['incomputational'],\n",
       " 'incomputational': ['urban'],\n",
       " 'all': ['we'],\n",
       " 'questionthe': ['terms'],\n",
       " 'terms': ['in'],\n",
       " 'can': ['think', 'bevirtually', 'be'],\n",
       " 'age': ['where'],\n",
       " 'where': ['the'],\n",
       " 'world': ['can'],\n",
       " 'bevirtually': ['conceived'],\n",
       " 'conceived': ['as'],\n",
       " 'fully': ['urban'],\n",
       " 'continuity': ['and'],\n",
       " 'urbandata': ['streams'],\n",
       " 'giving': ['account'],\n",
       " 'account': ['of'],\n",
       " 'taken': ['for'],\n",
       " 'granted': ['how'],\n",
       " 'are': ['wearticulating'],\n",
       " 'wearticulating': ['the'],\n",
       " 'phenomena': ['we'],\n",
       " 'call': ['city'],\n",
       " 'top': ['of'],\n",
       " 'generic': ['common'],\n",
       " 'common': ['ground']}"
      ]
     },
     "execution_count": 57,
     "metadata": {},
     "output_type": "execute_result"
    }
   ],
   "source": [
    "text_dict = markov_chain(text)\n",
    "text_dict"
   ]
  },
  {
   "cell_type": "code",
   "execution_count": 59,
   "metadata": {},
   "outputs": [],
   "source": [
    "import random\n",
    "def generate_sentence(chain, count=15):\n",
    "    '''Input a dictionary in the format of key = current word, value = list of next words\n",
    "       along with the number of words you would like to see in your generated sentence.'''\n",
    "\n",
    "    # Capitalize the first word\n",
    "    word1 = random.choice(list(chain.keys()))\n",
    "    sentence = word1.capitalize()\n",
    "\n",
    "    # Generate the second word from the value list. Set the new word as the first word. Repeat.\n",
    "    for i in range(count-1):\n",
    "        word2 = random.choice(chain[word1])\n",
    "        word1 = word2\n",
    "        sentence += ' ' + word2\n",
    "\n",
    "    # End it with a period\n",
    "    sentence += '.'\n",
    "    return(sentence)"
   ]
  },
  {
   "cell_type": "code",
   "execution_count": 60,
   "metadata": {},
   "outputs": [
    {
     "data": {
      "text/plain": [
       "'Through which information technology and the sake ofclarity we call city in an inversion incomputational urban data streams this metastructural.'"
      ]
     },
     "execution_count": 60,
     "metadata": {},
     "output_type": "execute_result"
    }
   ],
   "source": [
    "generate_sentence(text_dict,20)"
   ]
  },
  {
   "cell_type": "code",
   "execution_count": 65,
   "metadata": {},
   "outputs": [],
   "source": [
    "import string\n",
    "import re\n",
    "def generate_sentence(chain, count=15):\n",
    "    '''Input a dictionary in the format of key = current word, value = list of next words\n",
    "       along with the number of words you would like to see in your generated sentence.'''\n",
    "\n",
    "    # Capitalize the first word\n",
    "    word1 = random.choice(list(chain.keys()))\n",
    "    sentence = word1.capitalize()\n",
    "\n",
    "    # Generate the second word from the value list. Set the new word as the first word. Repeat.\n",
    "    for i in range(count-1):\n",
    "        word2 = random.choice(chain[word1])\n",
    "        word1 = word2\n",
    "        sentence += ' ' + word2\n",
    "\n",
    "    # End it with a period\n",
    "    sentence += ''.join(random.choices(string.punctuation))\n",
    "    return(sentence)"
   ]
  },
  {
   "cell_type": "code",
   "execution_count": 66,
   "metadata": {},
   "outputs": [
    {
     "data": {
      "text/plain": [
       "\"Continuity and abundance and theoriesemerging mainly during the th centuries present leapingcorrespondences with some methodological elucidations around the city on'\""
      ]
     },
     "execution_count": 66,
     "metadata": {},
     "output_type": "execute_result"
    }
   ],
   "source": [
    "generate_sentence(text_dict,20)"
   ]
  },
  {
   "cell_type": "code",
   "execution_count": 67,
   "metadata": {},
   "outputs": [
    {
     "name": "stdout",
     "output_type": "stream",
     "text": [
      "On top of industrialisation and episteme foucault b we willexplore this process of the th centuries present leapingcorrespondences with more+\n"
     ]
    }
   ],
   "source": [
    "print(generate_sentence(text_dict,20))"
   ]
  }
 ],
 "metadata": {
  "kernelspec": {
   "display_name": "Python 3",
   "language": "python",
   "name": "python3"
  },
  "language_info": {
   "codemirror_mode": {
    "name": "ipython",
    "version": 3
   },
   "file_extension": ".py",
   "mimetype": "text/x-python",
   "name": "python",
   "nbconvert_exporter": "python",
   "pygments_lexer": "ipython3",
   "version": "3.10.4"
  },
  "orig_nbformat": 4
 },
 "nbformat": 4,
 "nbformat_minor": 2
}
